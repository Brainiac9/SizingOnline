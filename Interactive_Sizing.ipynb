{
 "cells": [
  {
   "cell_type": "code",
   "execution_count": null,
   "id": "77a37729",
   "metadata": {},
   "outputs": [
    {
     "data": {
      "application/vnd.jupyter.widget-view+json": {
       "model_id": "d96cc1799b9444e1b4da8ac9e53252c4",
       "version_major": 2,
       "version_minor": 0
      },
      "text/plain": [
       "VBox(children=(Label(value='🎛️ Adjust parameters below:'),))"
      ]
     },
     "metadata": {},
     "output_type": "display_data"
    },
    {
     "data": {
      "application/vnd.jupyter.widget-view+json": {
       "model_id": "8d91e9ecf0124c1599e2fa4f0803eb23",
       "version_major": 2,
       "version_minor": 0
      },
      "text/plain": [
       "interactive(children=(FloatSlider(value=150.0, description='Entry Price', max=500.0, min=10.0, step=10.0), Flo…"
      ]
     },
     "metadata": {},
     "output_type": "display_data"
    }
   ],
   "source": [
    "import numpy as np\n",
    "import matplotlib.pyplot as plt\n",
    "from ipywidgets import interactive, FloatSlider, IntSlider, VBox, Label\n",
    "from scipy.optimize import minimize\n",
    "\n",
    "# --- Funding factor ---\n",
    "def compute_funding_factor(annual_rate_percent, period_fraction, compounding=\"8h\", frequency_per_year=1095):\n",
    "    r = annual_rate_percent / 100.0\n",
    "    if compounding == \"8h\":\n",
    "        return (1 + r / frequency_per_year) ** (frequency_per_year * period_fraction)\n",
    "    else:\n",
    "        return 1 + r * period_fraction\n",
    "\n",
    "# --- Optimization logic ---\n",
    "def compute_min_viable_loss(entry_short, discount, annual_rate, period_fraction, prices):\n",
    "    entry_long = (1 - discount) * entry_short\n",
    "    funding_factor = compute_funding_factor(annual_rate, period_fraction)\n",
    "\n",
    "    def total_pnl_vector(w_short):\n",
    "        w_long = 1 - w_short\n",
    "        short_raw_pnl = np.maximum(entry_short - prices, 0) * w_short\n",
    "        funding_cost = (funding_factor - 1) * entry_short * w_short\n",
    "        short_pnl = short_raw_pnl + funding_cost\n",
    "        long_pnl = (prices - entry_long) * w_long\n",
    "        return short_pnl + long_pnl\n",
    "\n",
    "    def find_min_loss(tol=1e-3, max_iter=40):\n",
    "        low = 0.0\n",
    "        high = entry_short\n",
    "        optimal_weight = np.nan\n",
    "\n",
    "        for _ in range(max_iter):\n",
    "            mid = (low + high) / 2\n",
    "\n",
    "            def constraint(w):\n",
    "                return np.min(total_pnl_vector(w[0])) + mid\n",
    "\n",
    "            result = minimize(\n",
    "                lambda w: w[0],\n",
    "                x0=[0.5],\n",
    "                bounds=[(0, 1)],\n",
    "                constraints={\"type\": \"ineq\", \"fun\": constraint},\n",
    "                method='SLSQP',\n",
    "                options={\"maxiter\": 300, \"ftol\": 1e-8, \"disp\": False}\n",
    "            )\n",
    "\n",
    "            if result.success:\n",
    "                optimal_weight = result.x[0]\n",
    "                high = mid\n",
    "            else:\n",
    "                low = mid\n",
    "\n",
    "            if high - low < tol:\n",
    "                break\n",
    "\n",
    "        return high / entry_short, optimal_weight\n",
    "\n",
    "    return find_min_loss()\n",
    "\n",
    "# --- Interactive plot function ---\n",
    "def interactive_hedge(entry_short=150, discount=0.2, annual_rate=0, months=34):\n",
    "    period_fraction = months / 12\n",
    "    prices = np.linspace(0, entry_short * 3, 5000)\n",
    "\n",
    "    max_loss_pct, short_weight = compute_min_viable_loss(\n",
    "        entry_short, discount, annual_rate, period_fraction, prices)\n",
    "\n",
    "    entry_long = (1 - discount) * entry_short\n",
    "    funding_factor = compute_funding_factor(annual_rate, period_fraction)\n",
    "\n",
    "    w_long = 1 - short_weight\n",
    "    short_pnl = np.maximum(entry_short - prices, 0) * short_weight + (funding_factor - 1) * entry_short * short_weight\n",
    "    long_pnl = (prices - entry_long) * w_long\n",
    "    total_pnl = short_pnl + long_pnl\n",
    "\n",
    "    plt.figure(figsize=(10, 6))\n",
    "    plt.plot(prices, total_pnl, label=\"Total PnL\", linewidth=2)\n",
    "    plt.plot(prices, short_pnl, '--', label=\"Short PnL\")\n",
    "    plt.plot(prices, long_pnl, ':', label=\"Long PnL\")\n",
    "    plt.axhline(-max_loss_pct * entry_short, color='red', linestyle=':', label=f\"Max Total Loss ({max_loss_pct:.2%})\")\n",
    "    plt.axhline(0, color='black', linewidth=0.5)\n",
    "    plt.title(f\"PnL Curve | Max Loss: -{max_loss_pct:.2%}, Optimal Short Weight: {short_weight:.3f}\")\n",
    "    plt.xlabel(\"Price\")\n",
    "    plt.ylabel(\"PnL\")\n",
    "    plt.grid(True)\n",
    "    plt.legend()\n",
    "    plt.show()\n",
    "\n",
    "# --- Display with interactive widgets ---\n",
    "entry_slider = FloatSlider(value=150, min=10, max=500, step=10, description='Entry Price')\n",
    "discount_slider = FloatSlider(value=0.4, min=0.05, max=0.95, step=0.05, description='Discount')\n",
    "funding_slider = IntSlider(value=-20, min=-50, max=50, step=5, description='Funding %')\n",
    "months_slider = IntSlider(value=22, min=1, max=36, step=1, description='Months')\n",
    "\n",
    "ui = VBox([\n",
    "    Label(\"🎛️ Adjust parameters below:\")\n",
    "])\n",
    "\n",
    "out = interactive(interactive_hedge, entry_short=entry_slider, discount=discount_slider, annual_rate=funding_slider, months=months_slider)\n",
    "display(ui, out)"
   ]
  }
 ],
 "metadata": {
  "kernelspec": {
   "display_name": "lockedtokens-env",
   "language": "python",
   "name": "python3"
  },
  "language_info": {
   "codemirror_mode": {
    "name": "ipython",
    "version": 3
   },
   "file_extension": ".py",
   "mimetype": "text/x-python",
   "name": "python",
   "nbconvert_exporter": "python",
   "pygments_lexer": "ipython3",
   "version": "3.13.3"
  }
 },
 "nbformat": 4,
 "nbformat_minor": 5
}
